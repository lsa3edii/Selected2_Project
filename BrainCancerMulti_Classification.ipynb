{
  "nbformat": 4,
  "nbformat_minor": 0,
  "metadata": {
    "colab": {
      "provenance": []
    },
    "kernelspec": {
      "name": "python3",
      "display_name": "Python 3"
    },
    "language_info": {
      "name": "python"
    },
    "gpuClass": "standard"
  },
  "cells": [
    {
      "cell_type": "code",
      "execution_count": null,
      "metadata": {
        "id": "nrBW2gxyU_rC",
        "colab": {
          "base_uri": "https://localhost:8080/"
        },
        "outputId": "addff182-7092-45f2-f105-5e9f679ad3e9"
      },
      "outputs": [
        {
          "output_type": "stream",
          "name": "stdout",
          "text": [
            "Drive already mounted at /content/GoogleDrive; to attempt to forcibly remount, call drive.mount(\"/content/GoogleDrive\", force_remount=True).\n"
          ]
        }
      ],
      "source": [
        "from google.colab import drive\n",
        "drive.mount('/content/GoogleDrive')"
      ]
    },
    {
      "cell_type": "code",
      "source": [
        "!pip install split-folders"
      ],
      "metadata": {
        "colab": {
          "base_uri": "https://localhost:8080/"
        },
        "id": "lshnc8uV3WqP",
        "outputId": "0d11744e-3311-44df-c875-3c808860fb1b"
      },
      "execution_count": null,
      "outputs": [
        {
          "output_type": "stream",
          "name": "stdout",
          "text": [
            "Looking in indexes: https://pypi.org/simple, https://us-python.pkg.dev/colab-wheels/public/simple/\n",
            "Collecting split-folders\n",
            "  Downloading split_folders-0.5.1-py3-none-any.whl (8.4 kB)\n",
            "Installing collected packages: split-folders\n",
            "Successfully installed split-folders-0.5.1\n"
          ]
        }
      ]
    },
    {
      "cell_type": "code",
      "source": [
        "import numpy as np\n",
        "import pandas as pd\n",
        "import tensorflow as tf\n",
        "\n",
        "from keras.models import Sequential\n",
        "from keras.layers import Conv2D, MaxPooling2D, Dropout, Flatten, Dense, BatchNormalization\n",
        "from sklearn.metrics import confusion_matrix, ConfusionMatrixDisplay, zero_one_loss\n",
        "from imutils import paths\n",
        "\n",
        "import matplotlib.pyplot as plt\n",
        "import splitfolders\n",
        "import cv2\n",
        "import random"
      ],
      "metadata": {
        "id": "poZ-XM9XVWlz"
      },
      "execution_count": null,
      "outputs": []
    },
    {
      "cell_type": "code",
      "source": [
        "inputFolder = '/content/GoogleDrive/MyDrive/Colab Notebooks/Neural Networks/Selected2 Project/Brain Cancer'\n",
        "outputFolder = '/content/GoogleDrive/MyDrive/Colab Notebooks/Neural Networks/Selected2 Project/dataset'"
      ],
      "metadata": {
        "id": "C_sqJXglBJ6j"
      },
      "execution_count": null,
      "outputs": []
    },
    {
      "cell_type": "code",
      "source": [
        "splitfolders.ratio(inputFolder, outputFolder, seed = 44, ratio = (0.8, 0.0, 0.2))"
      ],
      "metadata": {
        "id": "jH31LV_mV6DS",
        "colab": {
          "base_uri": "https://localhost:8080/"
        },
        "outputId": "5bc01479-7980-477e-973a-19d1c94da318"
      },
      "execution_count": null,
      "outputs": [
        {
          "output_type": "stream",
          "name": "stderr",
          "text": [
            "Copying files: 15000 files [08:15, 30.30 files/s]\n"
          ]
        }
      ]
    },
    {
      "cell_type": "code",
      "source": [
        "imgPaths = list(paths.list_images(outputFolder))\n",
        "print(imgPaths[0].split('/'))\n",
        "\n",
        "random.shuffle(imgPaths)\n",
        "\n",
        "classes = [] # classes = ['brain_tumor', 'brain_menin', 'brain_glioma']\n",
        "for imgPath in imgPaths:\n",
        "  className = imgPath.split('/')[-2]\n",
        "\n",
        "  if className not in classes:\n",
        "    classes.append(className)\n",
        "\n",
        "#print(classes)\n",
        "\n",
        "X_train = []\n",
        "y_train = []\n",
        "\n",
        "X_test = []\n",
        "y_test = []\n",
        "\n",
        "IMGSIZE = 128\n",
        "img_names = []\n",
        "\n",
        "for imgPath in imgPaths:\n",
        "  trainOrTest = imgPath.split('/')[-3]\n",
        "  className = imgPath.split('/')[-2]\n",
        "\n",
        "  img = cv2.imread(imgPath) #cv2.IMREAD_GRAYSCALE\n",
        "  img = cv2.resize(img, (IMGSIZE,IMGSIZE))\n",
        "\n",
        "  if trainOrTest == 'train':\n",
        "    X_train.append(img)\n",
        "    y_train.append(classes.index(className))\n",
        "    img_names.append(imgPath.split('/')[-1])\n",
        "\n",
        "  elif trainOrTest == 'test':\n",
        "    X_test.append(img)\n",
        "    y_test.append(classes.index(className))\n",
        "\n",
        "print(len(X_train), len(y_train))\n",
        "print(len(X_test), len(y_test))"
      ],
      "metadata": {
        "id": "IniMJGp9_IXg",
        "colab": {
          "base_uri": "https://localhost:8080/"
        },
        "outputId": "75fb521b-3eaf-43ef-9f70-46eba400d2a9"
      },
      "execution_count": null,
      "outputs": [
        {
          "output_type": "stream",
          "name": "stdout",
          "text": [
            "12000 12000\n",
            "3000 3000\n"
          ]
        }
      ]
    },
    {
      "cell_type": "code",
      "source": [
        "df = pd.DataFrame({\n",
        "    'File Name' : img_names,\n",
        "    'Category' : y_train\n",
        "})\n",
        "\n",
        "# print(classes.index('brain_tumor'))\n",
        "# print(classes.index('brain_glioma'))\n",
        "# print(classes.index('brain_menin'))\n",
        "\n",
        "print(classes)\n",
        "df.head()"
      ],
      "metadata": {
        "id": "0AqGy5iG7qnK",
        "colab": {
          "base_uri": "https://localhost:8080/",
          "height": 223
        },
        "outputId": "84149682-0fd0-4e5f-d96c-a136a16000e0"
      },
      "execution_count": null,
      "outputs": [
        {
          "output_type": "stream",
          "name": "stdout",
          "text": [
            "['brain_tumor', 'brain_menin', 'brain_glioma']\n"
          ]
        },
        {
          "output_type": "execute_result",
          "data": {
            "text/plain": [
              "               File Name  Category\n",
              "0   brain_menin_0466.jpg         1\n",
              "1   brain_menin_2933.jpg         1\n",
              "2  brain_glioma_3210.jpg         2\n",
              "3  brain_glioma_2218.jpg         2\n",
              "4  brain_glioma_4257.jpg         2"
            ],
            "text/html": [
              "\n",
              "  <div id=\"df-bb5ce910-9b75-4782-828f-d75bd0973f62\">\n",
              "    <div class=\"colab-df-container\">\n",
              "      <div>\n",
              "<style scoped>\n",
              "    .dataframe tbody tr th:only-of-type {\n",
              "        vertical-align: middle;\n",
              "    }\n",
              "\n",
              "    .dataframe tbody tr th {\n",
              "        vertical-align: top;\n",
              "    }\n",
              "\n",
              "    .dataframe thead th {\n",
              "        text-align: right;\n",
              "    }\n",
              "</style>\n",
              "<table border=\"1\" class=\"dataframe\">\n",
              "  <thead>\n",
              "    <tr style=\"text-align: right;\">\n",
              "      <th></th>\n",
              "      <th>File Name</th>\n",
              "      <th>Category</th>\n",
              "    </tr>\n",
              "  </thead>\n",
              "  <tbody>\n",
              "    <tr>\n",
              "      <th>0</th>\n",
              "      <td>brain_menin_0466.jpg</td>\n",
              "      <td>1</td>\n",
              "    </tr>\n",
              "    <tr>\n",
              "      <th>1</th>\n",
              "      <td>brain_menin_2933.jpg</td>\n",
              "      <td>1</td>\n",
              "    </tr>\n",
              "    <tr>\n",
              "      <th>2</th>\n",
              "      <td>brain_glioma_3210.jpg</td>\n",
              "      <td>2</td>\n",
              "    </tr>\n",
              "    <tr>\n",
              "      <th>3</th>\n",
              "      <td>brain_glioma_2218.jpg</td>\n",
              "      <td>2</td>\n",
              "    </tr>\n",
              "    <tr>\n",
              "      <th>4</th>\n",
              "      <td>brain_glioma_4257.jpg</td>\n",
              "      <td>2</td>\n",
              "    </tr>\n",
              "  </tbody>\n",
              "</table>\n",
              "</div>\n",
              "      <button class=\"colab-df-convert\" onclick=\"convertToInteractive('df-bb5ce910-9b75-4782-828f-d75bd0973f62')\"\n",
              "              title=\"Convert this dataframe to an interactive table.\"\n",
              "              style=\"display:none;\">\n",
              "        \n",
              "  <svg xmlns=\"http://www.w3.org/2000/svg\" height=\"24px\"viewBox=\"0 0 24 24\"\n",
              "       width=\"24px\">\n",
              "    <path d=\"M0 0h24v24H0V0z\" fill=\"none\"/>\n",
              "    <path d=\"M18.56 5.44l.94 2.06.94-2.06 2.06-.94-2.06-.94-.94-2.06-.94 2.06-2.06.94zm-11 1L8.5 8.5l.94-2.06 2.06-.94-2.06-.94L8.5 2.5l-.94 2.06-2.06.94zm10 10l.94 2.06.94-2.06 2.06-.94-2.06-.94-.94-2.06-.94 2.06-2.06.94z\"/><path d=\"M17.41 7.96l-1.37-1.37c-.4-.4-.92-.59-1.43-.59-.52 0-1.04.2-1.43.59L10.3 9.45l-7.72 7.72c-.78.78-.78 2.05 0 2.83L4 21.41c.39.39.9.59 1.41.59.51 0 1.02-.2 1.41-.59l7.78-7.78 2.81-2.81c.8-.78.8-2.07 0-2.86zM5.41 20L4 18.59l7.72-7.72 1.47 1.35L5.41 20z\"/>\n",
              "  </svg>\n",
              "      </button>\n",
              "      \n",
              "  <style>\n",
              "    .colab-df-container {\n",
              "      display:flex;\n",
              "      flex-wrap:wrap;\n",
              "      gap: 12px;\n",
              "    }\n",
              "\n",
              "    .colab-df-convert {\n",
              "      background-color: #E8F0FE;\n",
              "      border: none;\n",
              "      border-radius: 50%;\n",
              "      cursor: pointer;\n",
              "      display: none;\n",
              "      fill: #1967D2;\n",
              "      height: 32px;\n",
              "      padding: 0 0 0 0;\n",
              "      width: 32px;\n",
              "    }\n",
              "\n",
              "    .colab-df-convert:hover {\n",
              "      background-color: #E2EBFA;\n",
              "      box-shadow: 0px 1px 2px rgba(60, 64, 67, 0.3), 0px 1px 3px 1px rgba(60, 64, 67, 0.15);\n",
              "      fill: #174EA6;\n",
              "    }\n",
              "\n",
              "    [theme=dark] .colab-df-convert {\n",
              "      background-color: #3B4455;\n",
              "      fill: #D2E3FC;\n",
              "    }\n",
              "\n",
              "    [theme=dark] .colab-df-convert:hover {\n",
              "      background-color: #434B5C;\n",
              "      box-shadow: 0px 1px 3px 1px rgba(0, 0, 0, 0.15);\n",
              "      filter: drop-shadow(0px 1px 2px rgba(0, 0, 0, 0.3));\n",
              "      fill: #FFFFFF;\n",
              "    }\n",
              "  </style>\n",
              "\n",
              "      <script>\n",
              "        const buttonEl =\n",
              "          document.querySelector('#df-bb5ce910-9b75-4782-828f-d75bd0973f62 button.colab-df-convert');\n",
              "        buttonEl.style.display =\n",
              "          google.colab.kernel.accessAllowed ? 'block' : 'none';\n",
              "\n",
              "        async function convertToInteractive(key) {\n",
              "          const element = document.querySelector('#df-bb5ce910-9b75-4782-828f-d75bd0973f62');\n",
              "          const dataTable =\n",
              "            await google.colab.kernel.invokeFunction('convertToInteractive',\n",
              "                                                     [key], {});\n",
              "          if (!dataTable) return;\n",
              "\n",
              "          const docLinkHtml = 'Like what you see? Visit the ' +\n",
              "            '<a target=\"_blank\" href=https://colab.research.google.com/notebooks/data_table.ipynb>data table notebook</a>'\n",
              "            + ' to learn more about interactive tables.';\n",
              "          element.innerHTML = '';\n",
              "          dataTable['output_type'] = 'display_data';\n",
              "          await google.colab.output.renderOutput(dataTable, element);\n",
              "          const docLink = document.createElement('div');\n",
              "          docLink.innerHTML = docLinkHtml;\n",
              "          element.appendChild(docLink);\n",
              "        }\n",
              "      </script>\n",
              "    </div>\n",
              "  </div>\n",
              "  "
            ]
          },
          "metadata": {},
          "execution_count": 86
        }
      ]
    },
    {
      "cell_type": "code",
      "source": [
        "X_train = np.array(X_train)\n",
        "y_train = np.array(y_train)\n",
        "\n",
        "X_test = np.array(X_test)\n",
        "y_test = np.array(y_test)"
      ],
      "metadata": {
        "id": "zPNII54jDPgg"
      },
      "execution_count": null,
      "outputs": []
    },
    {
      "cell_type": "code",
      "source": [
        "model = Sequential()\n",
        "\n",
        "model.add(Conv2D(filters = 32, kernel_size = (3, 3), activation = 'relu', input_shape = (IMGSIZE, IMGSIZE, 3)))\n",
        "model.add(BatchNormalization())\n",
        "model.add(MaxPooling2D((2,2)))\n",
        "model.add(Dropout(0.25))\n",
        "\n",
        "model.add(Conv2D(filters = 64, kernel_size = (3, 3), activation = 'relu'))\n",
        "model.add(MaxPooling2D((2,2)))\n",
        "\n",
        "model.add(Conv2D(filters = 128, kernel_size = (3, 3), activation = 'relu'))\n",
        "model.add(MaxPooling2D((2,2)))\n",
        "\n",
        "model.add(Flatten())\n",
        "model.add(Dense(256, activation = 'relu'))\n",
        "model.add(Dropout(0.25))\n",
        "\n",
        "model.add(Dense(128, activation = 'relu'))\n",
        "model.add(Dropout(0.25))\n",
        "\n",
        "model.add(Dense(64, activation = 'relu'))\n",
        "model.add(Dense(3, activation = 'softmax'))\n",
        "\n",
        "model.compile(optimizer = 'adam', loss = 'sparse_categorical_crossentropy', metrics = ['accuracy'])\n",
        "history = model.fit(X_train, y_train, validation_data = (X_test, y_test), epochs = 15)\n",
        "# val_loss, val_acc = model.evaluate(X_test, y_test)\n",
        "\n",
        "y_pred = model.predict(X_test)\n",
        "\n",
        "model.summary()"
      ],
      "metadata": {
        "id": "1hiVsLhx7g53",
        "colab": {
          "base_uri": "https://localhost:8080/"
        },
        "outputId": "80002195-e18e-4732-8e55-05a576855219"
      },
      "execution_count": null,
      "outputs": [
        {
          "output_type": "stream",
          "name": "stdout",
          "text": [
            "Epoch 1/15\n",
            "375/375 [==============================] - 584s 2s/step - loss: 0.7432 - accuracy: 0.6879 - val_loss: 0.6903 - val_accuracy: 0.6817\n",
            "Epoch 2/15\n",
            "375/375 [==============================] - 593s 2s/step - loss: 0.4689 - accuracy: 0.8142 - val_loss: 0.6275 - val_accuracy: 0.7427\n",
            "Epoch 3/15\n",
            "375/375 [==============================] - 599s 2s/step - loss: 0.3447 - accuracy: 0.8631 - val_loss: 0.2723 - val_accuracy: 0.8957\n",
            "Epoch 4/15\n",
            "375/375 [==============================] - 600s 2s/step - loss: 0.2735 - accuracy: 0.8990 - val_loss: 0.3266 - val_accuracy: 0.8653\n",
            "Epoch 5/15\n",
            "375/375 [==============================] - 591s 2s/step - loss: 0.2251 - accuracy: 0.9153 - val_loss: 0.2367 - val_accuracy: 0.9160\n",
            "Epoch 6/15\n",
            "375/375 [==============================] - 594s 2s/step - loss: 0.1915 - accuracy: 0.9310 - val_loss: 0.3613 - val_accuracy: 0.8940\n",
            "Epoch 7/15\n",
            "375/375 [==============================] - 594s 2s/step - loss: 0.1517 - accuracy: 0.9427 - val_loss: 0.2245 - val_accuracy: 0.9213\n",
            "Epoch 8/15\n",
            "375/375 [==============================] - 599s 2s/step - loss: 0.1180 - accuracy: 0.9573 - val_loss: 0.2478 - val_accuracy: 0.9263\n",
            "Epoch 9/15\n",
            "375/375 [==============================] - 593s 2s/step - loss: 0.1017 - accuracy: 0.9620 - val_loss: 0.2637 - val_accuracy: 0.9237\n",
            "Epoch 10/15\n",
            "375/375 [==============================] - 597s 2s/step - loss: 0.0851 - accuracy: 0.9682 - val_loss: 0.4091 - val_accuracy: 0.8843\n",
            "Epoch 11/15\n",
            "375/375 [==============================] - 600s 2s/step - loss: 0.0752 - accuracy: 0.9725 - val_loss: 0.2158 - val_accuracy: 0.9367\n",
            "Epoch 12/15\n",
            "375/375 [==============================] - 598s 2s/step - loss: 0.0640 - accuracy: 0.9768 - val_loss: 0.2192 - val_accuracy: 0.9437\n",
            "Epoch 13/15\n",
            "375/375 [==============================] - 595s 2s/step - loss: 0.0521 - accuracy: 0.9827 - val_loss: 0.2586 - val_accuracy: 0.9280\n",
            "Epoch 14/15\n",
            "375/375 [==============================] - 600s 2s/step - loss: 0.0551 - accuracy: 0.9802 - val_loss: 0.4129 - val_accuracy: 0.8973\n",
            "Epoch 15/15\n",
            "375/375 [==============================] - 600s 2s/step - loss: 0.0367 - accuracy: 0.9870 - val_loss: 0.2088 - val_accuracy: 0.9540\n",
            "94/94 [==============================] - 34s 365ms/step - loss: 0.2088 - accuracy: 0.9540\n",
            "94/94 [==============================] - 36s 385ms/step\n",
            "Model: \"sequential_4\"\n",
            "_________________________________________________________________\n",
            " Layer (type)                Output Shape              Param #   \n",
            "=================================================================\n",
            " conv2d_9 (Conv2D)           (None, 126, 126, 32)      896       \n",
            "                                                                 \n",
            " batch_normalization_3 (Batc  (None, 126, 126, 32)     128       \n",
            " hNormalization)                                                 \n",
            "                                                                 \n",
            " max_pooling2d_9 (MaxPooling  (None, 63, 63, 32)       0         \n",
            " 2D)                                                             \n",
            "                                                                 \n",
            " dropout_8 (Dropout)         (None, 63, 63, 32)        0         \n",
            "                                                                 \n",
            " conv2d_10 (Conv2D)          (None, 61, 61, 64)        18496     \n",
            "                                                                 \n",
            " max_pooling2d_10 (MaxPoolin  (None, 30, 30, 64)       0         \n",
            " g2D)                                                            \n",
            "                                                                 \n",
            " conv2d_11 (Conv2D)          (None, 28, 28, 128)       73856     \n",
            "                                                                 \n",
            " max_pooling2d_11 (MaxPoolin  (None, 14, 14, 128)      0         \n",
            " g2D)                                                            \n",
            "                                                                 \n",
            " flatten_4 (Flatten)         (None, 25088)             0         \n",
            "                                                                 \n",
            " dense_16 (Dense)            (None, 256)               6422784   \n",
            "                                                                 \n",
            " dropout_9 (Dropout)         (None, 256)               0         \n",
            "                                                                 \n",
            " dense_17 (Dense)            (None, 128)               32896     \n",
            "                                                                 \n",
            " dropout_10 (Dropout)        (None, 128)               0         \n",
            "                                                                 \n",
            " dense_18 (Dense)            (None, 64)                8256      \n",
            "                                                                 \n",
            " dense_19 (Dense)            (None, 3)                 195       \n",
            "                                                                 \n",
            "=================================================================\n",
            "Total params: 6,557,507\n",
            "Trainable params: 6,557,443\n",
            "Non-trainable params: 64\n",
            "_________________________________________________________________\n"
          ]
        }
      ]
    },
    {
      "cell_type": "code",
      "source": [
        "model.save('/content/GoogleDrive/MyDrive/Colab Notebooks/Neural Networks/Selected2 Project/model3.h5')\n",
        "# new_model = model.load_weights('/content/GoogleDrive/MyDrive/Colab Notebooks/Neural Networks/Selected2 Project/model.h5')"
      ],
      "metadata": {
        "id": "aR8gzctW1IkY"
      },
      "execution_count": null,
      "outputs": []
    },
    {
      "cell_type": "code",
      "source": [
        "# epochs = range(1,15)\n",
        "plt.plot(history.history['accuracy'], label = 'Training Accuracy')\n",
        "plt.plot(history.history['val_accuracy'], label = 'Testing Accuracy')\n",
        "plt.xlabel('Epochs')\n",
        "plt.ylabel('Accuracy')\n",
        "plt.legend()\n",
        "plt.show()"
      ],
      "metadata": {
        "colab": {
          "base_uri": "https://localhost:8080/",
          "height": 452
        },
        "id": "cId2mAn6eXWw",
        "outputId": "0cbabc84-be78-4a8e-f65a-9b1096d7c84d"
      },
      "execution_count": null,
      "outputs": [
        {
          "output_type": "display_data",
          "data": {
            "text/plain": [
              "<Figure size 640x480 with 1 Axes>"
            ],
            "image/png": "[encoded data removed]"
          },
          "metadata": {}
        }
      ]
    },
    {
      "cell_type": "code",
      "source": [
        "plt.plot(history.history['loss'], label = 'Training Loss')\n",
        "plt.plot(history.history['val_loss'], label = 'Testing Loss')\n",
        "plt.xlabel('Epochs')\n",
        "plt.ylabel('Loss')\n",
        "plt.legend()\n",
        "plt.show()"
      ],
      "metadata": {
        "colab": {
          "base_uri": "https://localhost:8080/",
          "height": 449
        },
        "id": "uulcHW9Z2lRe",
        "outputId": "1bc356df-e01b-4b7d-ce8a-947d7098d4d6"
      },
      "execution_count": null,
      "outputs": [
        {
          "output_type": "display_data",
          "data": {
            "text/plain": [
              "<Figure size 640x480 with 1 Axes>"
            ],
            "image/png": "[encoded data removed]"
          },
          "metadata": {}
        }
      ]
    },
    {
      "cell_type": "code",
      "source": [
        "print(classes)\n",
        "print(y_test[:25], '\\n')\n",
        "print(y_pred[:25], '\\n')\n",
        "\n",
        "predict = []\n",
        "for i in range(3000): #len(y_pred)\n",
        "  predict.append(np.argmax(y_pred[i]))\n",
        "\n",
        "print(predict[:25], '\\n')\n",
        "\n",
        "cm = confusion_matrix(y_test, predict)\n",
        "print(cm, '\\n')\n",
        "\n",
        "zol = zero_one_loss(y_test, predict, normalize = False)\n",
        "print(zol)"
      ],
      "metadata": {
        "colab": {
          "base_uri": "https://localhost:8080/"
        },
        "id": "95YSmFe598P2",
        "outputId": "4c37f146-7153-495a-ffa9-cadd198d3466"
      },
      "execution_count": null,
      "outputs": [
        {
          "output_type": "stream",
          "name": "stdout",
          "text": [
            "['brain_tumor', 'brain_menin', 'brain_glioma']\n",
            "[0 0 2 0 0 1 2 0 0 0 0 2 2 0 0 2 2 0 2 1 2 2 0 0 0] \n",
            "\n",
            "[[9.9992400e-01 7.5901422e-05 2.9794058e-09]\n",
            " [9.9999684e-01 3.0507995e-06 9.0490039e-11]\n",
            " [6.9533474e-13 6.2490763e-11 9.9999994e-01]\n",
            " [9.9999994e-01 7.4280668e-12 2.8352125e-17]\n",
            " [9.9999994e-01 5.3939068e-08 4.1361425e-11]\n",
            " [1.5169085e-04 9.9521255e-01 4.6356926e-03]\n",
            " [6.3160705e-08 3.7380460e-08 9.9999982e-01]\n",
            " [9.4262594e-01 5.7244722e-02 1.2920726e-04]\n",
            " [9.9991912e-01 8.0592858e-05 2.0055425e-07]\n",
            " [9.9999994e-01 2.4570270e-12 6.1827067e-19]\n",
            " [9.9999994e-01 1.7949433e-09 4.2337236e-13]\n",
            " [3.7844119e-15 7.6265730e-12 9.9999994e-01]\n",
            " [2.3165061e-17 5.2599343e-14 9.9999994e-01]\n",
            " [9.9999994e-01 8.5868685e-15 1.2439935e-22]\n",
            " [9.9973774e-01 2.6231236e-04 5.1519994e-10]\n",
            " [5.7318434e-04 2.1256880e-01 7.8685790e-01]\n",
            " [1.8529448e-21 3.8842917e-16 9.9999994e-01]\n",
            " [9.9999207e-01 7.8664234e-06 8.1447444e-09]\n",
            " [8.0888890e-24 1.9546778e-18 9.9999994e-01]\n",
            " [9.0069038e-13 9.9999994e-01 4.6872189e-12]\n",
            " [4.3045342e-19 3.4783535e-15 9.9999994e-01]\n",
            " [5.4754526e-12 5.1192801e-09 9.9999994e-01]\n",
            " [9.9999994e-01 3.1691073e-11 3.1072641e-16]\n",
            " [9.9999994e-01 9.4551283e-11 4.3657793e-15]\n",
            " [9.9997252e-01 2.5521616e-05 1.8710292e-06]] \n",
            "\n",
            "[0, 0, 2, 0, 0, 1, 2, 0, 0, 0, 0, 2, 2, 0, 0, 2, 2, 0, 2, 1, 2, 2, 0, 0, 0] \n",
            "\n",
            "[[969  23   8]\n",
            " [ 44 941  15]\n",
            " [  1  47 952]]\n"
          ]
        }
      ]
    },
    {
      "cell_type": "code",
      "source": [
        "plt.figure(figsize = (5,5))\n",
        "ConfusionMatrixDisplay(cm).plot()\n",
        "plt.show()"
      ],
      "metadata": {
        "colab": {
          "base_uri": "https://localhost:8080/",
          "height": 466
        },
        "id": "tyrQBSqkkrE4",
        "outputId": "0f058052-f6e1-4303-a8d7-a490e97a6d46"
      },
      "execution_count": null,
      "outputs": [
        {
          "output_type": "display_data",
          "data": {
            "text/plain": [
              "<Figure size 500x500 with 0 Axes>"
            ]
          },
          "metadata": {}
        },
        {
          "output_type": "display_data",
          "data": {
            "text/plain": [
              "<Figure size 640x480 with 2 Axes>"
            ],
            "image/png": "[encoded data removed]"
          },
          "metadata": {}
        }
      ]
    },
    {
      "cell_type": "code",
      "source": [
        "test_img_path = '/content/GoogleDrive/MyDrive/Colab Notebooks/Neural Networks/Selected2 Project/dataset/test/brain_menin/brain_menin_0089.jpg'\n",
        "\n",
        "test_img = cv2.imread(test_img_path)\n",
        "test_img = cv2.resize(test_img, (128,128))\n",
        "\n",
        "plt.imshow(test_img)\n",
        "plt.title(test_img_path.split('\\\\')[-1])\n",
        "\n",
        "test_img = test_img[tf.newaxis, ...]\n",
        "\n",
        "print(model.predict(test_img))\n",
        "print(classes)"
      ],
      "metadata": {
        "id": "yFl8coCNNtqk"
      },
      "execution_count": null,
      "outputs": []
    }
  ]
}